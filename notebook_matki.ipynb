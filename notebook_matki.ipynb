{
 "cells": [
  {
   "cell_type": "code",
   "execution_count": 8,
   "metadata": {},
   "outputs": [],
   "source": [
    "from collections import Counter\n",
    "numbers_2 = [1, 1, 1, 1, 1, 0, 0,2,2,2,2,2,3,3,3,3,4,4,4,4,4,4,4,4,4,4,8,9,6,7,0, 0, 1, 1, 0, 0, 0, 0, 1, 0, 1, 0]\n",
    "counter_numbers_2 = Counter(numbers_2)  # Counter({0: 10, 1: 9})"
   ]
  },
  {
   "cell_type": "code",
   "execution_count": 19,
   "metadata": {},
   "outputs": [
    {
     "data": {
      "text/plain": [
       "[(0, 10), (4, 10), (1, 9), (2, 5), (3, 4)]"
      ]
     },
     "execution_count": 19,
     "metadata": {},
     "output_type": "execute_result"
    }
   ],
   "source": [
    "count_one = list(counter_numbers_2.values()).count(1)\n",
    "counter_numbers_2.most_common(len(counter_numbers_2)-count_one)"
   ]
  },
  {
   "cell_type": "code",
   "execution_count": 18,
   "metadata": {},
   "outputs": [
    {
     "data": {
      "text/plain": [
       "4"
      ]
     },
     "execution_count": 18,
     "metadata": {},
     "output_type": "execute_result"
    }
   ],
   "source": [
    "count_one = list(counter_numbers_2.values()).count(1)"
   ]
  },
  {
   "cell_type": "code",
   "execution_count": 12,
   "metadata": {},
   "outputs": [],
   "source": [
    "result = {k: v for k, v in counter_numbers_2.items() if v >= 2}"
   ]
  },
  {
   "cell_type": "code",
   "execution_count": 13,
   "metadata": {},
   "outputs": [
    {
     "data": {
      "text/plain": [
       "{1: 9, 0: 10, 2: 5, 3: 4, 4: 10}"
      ]
     },
     "execution_count": 13,
     "metadata": {},
     "output_type": "execute_result"
    }
   ],
   "source": [
    "result"
   ]
  },
  {
   "cell_type": "code",
   "execution_count": 111,
   "metadata": {},
   "outputs": [
    {
     "data": {
      "text/plain": [
       "Index(['region', 'name', 'addresse', 'cat1', 'cat2', 'review_num',\n",
       "       'blog_review_num', 'score_min', 'likePoint', 'likePointCnt', 'rate',\n",
       "       'reviewerCnt', 'reviewAt', 'reviews_date', 'lon', 'lat'],\n",
       "      dtype='object')"
      ]
     },
     "execution_count": 111,
     "metadata": {},
     "output_type": "execute_result"
    }
   ],
   "source": [
    "import pandas as pd\n",
    "\n",
    "db = pd.read_csv('./matki_DB.csv')\n",
    "db.keys()"
   ]
  },
  {
   "cell_type": "code",
   "execution_count": 144,
   "metadata": {},
   "outputs": [],
   "source": [
    "from auth import *\n",
    "import requests\n",
    "import geopy\n",
    "from geopy.geocoders import Nominatim\n",
    "geolocator = Nominatim(user_agent=\"geoapiExercises\")\n",
    "\n",
    "\n",
    "\n",
    "def get_coordinates(address):\n",
    "    location = geolocator.geocode(address)\n",
    "    if location:\n",
    "        return location.latitude, location.longitude\n",
    "    else:\n",
    "        return None, None\n",
    "\n",
    "\n",
    "\n",
    "def geocode(address):\n",
    "    address = \" \".join(address.split(' ')[:4])\n",
    "    apiurl = \"http://api.vworld.kr/req/address?\"\n",
    "    params = {\n",
    "        \"service\": \"address\",\n",
    "        \"request\": \"getcoord\",\n",
    "        \"crs\": \"epsg:4326\",\n",
    "        \"address\": address,\n",
    "        \"format\": \"json\",\n",
    "        \"type\": \"road\",\n",
    "        \"key\": geocodeKey,#st.secrets[\"geocodeKey\"],\n",
    "    }\n",
    "    \n",
    "    try:\n",
    "        response = requests.get(apiurl, params=params)\n",
    "\n",
    "        json_data = response.json()\n",
    "\n",
    "        if json_data[\"response\"][\"status\"] == \"OK\":\n",
    "            x = json_data[\"response\"][\"result\"][\"point\"][\"x\"]\n",
    "            y = json_data[\"response\"][\"result\"][\"point\"][\"y\"]\n",
    "            # print(json_data[\"response\"][\"refined\"][\"text\"])\n",
    "            # print(\"\\n경도: \", x, \"\\n위도: \", y)\n",
    "            return (x, y)\n",
    "        else:\n",
    "            x,y = get_coordinates(address)\n",
    "            print(address)\n",
    "            print(location)\n",
    "            return (x, y)\n",
    "    except Exception as e:\n",
    "        location = geolocator.geocode(address)\n",
    "        print(location)\n",
    "        if location:\n",
    "            return (location.latitude, location.longitude)\n",
    "        else:\n",
    "            return (\"None\", \"None\")\n"
   ]
  },
  {
   "cell_type": "code",
   "execution_count": 113,
   "metadata": {},
   "outputs": [
    {
     "name": "stdout",
     "output_type": "stream",
     "text": [
      "서울 금천구 벚꽃로 244\n",
      "\n",
      "경도:  126.885826446 \n",
      "위도:  37.476739130\n",
      "서울 금천구 가산디지털1로 168\n",
      "\n",
      "경도:  126.882732964 \n",
      "위도:  37.479887750\n",
      "서울 서초구 강남대로 399\n",
      "\n",
      "경도:  127.026834994 \n",
      "위도:  37.498235186\n",
      "서울 중랑구 신내로 225\n",
      "\n",
      "경도:  127.091213102 \n",
      "위도:  37.617065144\n",
      "서울 중랑구 신내로 225\n",
      "\n",
      "경도:  127.091213102 \n",
      "위도:  37.617065144\n",
      "서울 마포구 독막로9길 26\n",
      "\n",
      "경도:  126.920246249 \n",
      "위도:  37.549358239\n",
      "서울 송파구 백제고분로7길 41\n",
      "\n",
      "경도:  127.083585181 \n",
      "위도:  37.510994122\n",
      "서울 중랑구 신내로 225\n",
      "\n",
      "경도:  127.091213102 \n",
      "위도:  37.617065144\n",
      "서울 금천구 디지털로9길 32\n",
      "\n",
      "경도:  126.887383891 \n",
      "위도:  37.479528326\n",
      "서울 중랑구 신내로 225\n",
      "\n",
      "경도:  127.091213102 \n",
      "위도:  37.617065144\n",
      "서울 중랑구 신내로 225\n",
      "\n",
      "경도:  127.091213102 \n",
      "위도:  37.617065144\n",
      "서울 금천구 가산디지털1로 168\n",
      "\n",
      "경도:  126.882732964 \n",
      "위도:  37.479887750\n",
      "서울 성북구 고려대로2길 37\n",
      "\n",
      "경도:  127.020854467 \n",
      "위도:  37.584374667\n",
      "서울 중랑구 신내로 225\n",
      "\n",
      "경도:  127.091213102 \n",
      "위도:  37.617065144\n",
      "서울 성북구 보문로 132\n",
      "경기 성남시 분당구 서현로\n",
      "\n",
      "경도:  127.122551454 \n",
      "위도:  37.388953226\n",
      "서울 금천구 가산디지털1로 168\n",
      "\n",
      "경도:  126.882732964 \n",
      "위도:  37.479887750\n",
      "서울 금천구 디지털로9길 32\n",
      "\n",
      "경도:  126.887383891 \n",
      "위도:  37.479528326\n",
      "서울 서대문구 연세로5길 38\n",
      "서울 금천구 가산디지털1로 168\n",
      "\n",
      "경도:  126.882732964 \n",
      "위도:  37.479887750\n",
      "서울 중랑구 신내로 225\n",
      "\n",
      "경도:  127.091213102 \n",
      "위도:  37.617065144\n",
      "서울 중랑구 신내로 225\n",
      "\n",
      "경도:  127.091213102 \n",
      "위도:  37.617065144\n",
      "서울 금천구 가산디지털1로 168\n",
      "\n",
      "경도:  126.882732964 \n",
      "위도:  37.479887750\n",
      "서울 금천구 가산디지털1로 168\n",
      "\n",
      "경도:  126.882732964 \n",
      "위도:  37.479887750\n",
      "서울 금천구 디지털로9길 99\n",
      "\n",
      "경도:  126.884812172 \n",
      "위도:  37.481679379\n",
      "서울 금천구 디지털로9길 32\n",
      "\n",
      "경도:  126.887383891 \n",
      "위도:  37.479528326\n",
      "서울 금천구 디지털로9길 32\n",
      "\n",
      "경도:  126.887383891 \n",
      "위도:  37.479528326\n",
      "서울 서초구 효령로55길 39\n",
      "\n",
      "경도:  127.013990652 \n",
      "위도:  37.486572858\n",
      "서울 금천구 디지털로9길 99\n",
      "\n",
      "경도:  126.884812172 \n",
      "위도:  37.481679379\n",
      "서울 중랑구 신내로 225\n",
      "\n",
      "경도:  127.091213102 \n",
      "위도:  37.617065144\n",
      "서울 금천구 가산디지털1로 142\n",
      "\n",
      "경도:  126.883403019 \n",
      "위도:  37.478448104\n",
      "서울 금천구 가산디지털1로 142\n",
      "\n",
      "경도:  126.883403019 \n",
      "위도:  37.478448104\n"
     ]
    }
   ],
   "source": [
    "tmp_df = db[(db['lon'] == 'None') | (db['lat'] == 'None') ]\n",
    "tmp_list = set(tmp_df['addresse'].to_list())\n",
    "address_list = {i:geocode(i) for i in tmp_list}"
   ]
  },
  {
   "cell_type": "code",
   "execution_count": 114,
   "metadata": {},
   "outputs": [],
   "source": [
    "def samedict(address):\n",
    "    if address_list[address]:\n",
    "        return address_list[address][0],address_list[address][1]\n",
    "    else:\n",
    "        return 'None', 'None'"
   ]
  },
  {
   "cell_type": "code",
   "execution_count": 110,
   "metadata": {},
   "outputs": [
    {
     "name": "stderr",
     "output_type": "stream",
     "text": [
      "100%|██████████| 160/160 [00:00<00:00, 492361.44it/s]\n"
     ]
    },
    {
     "ename": "ValueError",
     "evalue": "Length of values (160) does not match length of index (78610)",
     "output_type": "error",
     "traceback": [
      "\u001b[0;31m---------------------------------------------------------------------------\u001b[0m",
      "\u001b[0;31mValueError\u001b[0m                                Traceback (most recent call last)",
      "Cell \u001b[0;32mIn[110], line 3\u001b[0m\n\u001b[1;32m      1\u001b[0m \u001b[39mfrom\u001b[39;00m \u001b[39mtqdm\u001b[39;00m \u001b[39mimport\u001b[39;00m tqdm\n\u001b[1;32m      2\u001b[0m tqdm\u001b[39m.\u001b[39mpandas()\n\u001b[0;32m----> 3\u001b[0m db[\u001b[39m'\u001b[39m\u001b[39mlon\u001b[39m\u001b[39m'\u001b[39m], db[\u001b[39m'\u001b[39m\u001b[39mlat\u001b[39m\u001b[39m'\u001b[39m] \u001b[39m=\u001b[39m \u001b[39mzip\u001b[39m(\u001b[39m*\u001b[39mdb[(db[\u001b[39m'\u001b[39m\u001b[39mlon\u001b[39m\u001b[39m'\u001b[39m] \u001b[39m==\u001b[39m \u001b[39m'\u001b[39m\u001b[39mNone\u001b[39m\u001b[39m'\u001b[39m) \u001b[39m|\u001b[39m (db[\u001b[39m'\u001b[39m\u001b[39mlat\u001b[39m\u001b[39m'\u001b[39m] \u001b[39m==\u001b[39m \u001b[39m'\u001b[39m\u001b[39mNone\u001b[39m\u001b[39m'\u001b[39m) ][\u001b[39m'\u001b[39m\u001b[39maddresse\u001b[39m\u001b[39m'\u001b[39m]\u001b[39m.\u001b[39mprogress_apply(samedict))\n",
      "File \u001b[0;32m~/miniforge3/lib/python3.10/site-packages/pandas/core/frame.py:3978\u001b[0m, in \u001b[0;36mDataFrame.__setitem__\u001b[0;34m(self, key, value)\u001b[0m\n\u001b[1;32m   3975\u001b[0m     \u001b[39mself\u001b[39m\u001b[39m.\u001b[39m_setitem_array([key], value)\n\u001b[1;32m   3976\u001b[0m \u001b[39melse\u001b[39;00m:\n\u001b[1;32m   3977\u001b[0m     \u001b[39m# set column\u001b[39;00m\n\u001b[0;32m-> 3978\u001b[0m     \u001b[39mself\u001b[39;49m\u001b[39m.\u001b[39;49m_set_item(key, value)\n",
      "File \u001b[0;32m~/miniforge3/lib/python3.10/site-packages/pandas/core/frame.py:4172\u001b[0m, in \u001b[0;36mDataFrame._set_item\u001b[0;34m(self, key, value)\u001b[0m\n\u001b[1;32m   4162\u001b[0m \u001b[39mdef\u001b[39;00m \u001b[39m_set_item\u001b[39m(\u001b[39mself\u001b[39m, key, value) \u001b[39m-\u001b[39m\u001b[39m>\u001b[39m \u001b[39mNone\u001b[39;00m:\n\u001b[1;32m   4163\u001b[0m     \u001b[39m\"\"\"\u001b[39;00m\n\u001b[1;32m   4164\u001b[0m \u001b[39m    Add series to DataFrame in specified column.\u001b[39;00m\n\u001b[1;32m   4165\u001b[0m \n\u001b[0;32m   (...)\u001b[0m\n\u001b[1;32m   4170\u001b[0m \u001b[39m    ensure homogeneity.\u001b[39;00m\n\u001b[1;32m   4171\u001b[0m \u001b[39m    \"\"\"\u001b[39;00m\n\u001b[0;32m-> 4172\u001b[0m     value \u001b[39m=\u001b[39m \u001b[39mself\u001b[39;49m\u001b[39m.\u001b[39;49m_sanitize_column(value)\n\u001b[1;32m   4174\u001b[0m     \u001b[39mif\u001b[39;00m (\n\u001b[1;32m   4175\u001b[0m         key \u001b[39min\u001b[39;00m \u001b[39mself\u001b[39m\u001b[39m.\u001b[39mcolumns\n\u001b[1;32m   4176\u001b[0m         \u001b[39mand\u001b[39;00m value\u001b[39m.\u001b[39mndim \u001b[39m==\u001b[39m \u001b[39m1\u001b[39m\n\u001b[1;32m   4177\u001b[0m         \u001b[39mand\u001b[39;00m \u001b[39mnot\u001b[39;00m is_extension_array_dtype(value)\n\u001b[1;32m   4178\u001b[0m     ):\n\u001b[1;32m   4179\u001b[0m         \u001b[39m# broadcast across multiple columns if necessary\u001b[39;00m\n\u001b[1;32m   4180\u001b[0m         \u001b[39mif\u001b[39;00m \u001b[39mnot\u001b[39;00m \u001b[39mself\u001b[39m\u001b[39m.\u001b[39mcolumns\u001b[39m.\u001b[39mis_unique \u001b[39mor\u001b[39;00m \u001b[39misinstance\u001b[39m(\u001b[39mself\u001b[39m\u001b[39m.\u001b[39mcolumns, MultiIndex):\n",
      "File \u001b[0;32m~/miniforge3/lib/python3.10/site-packages/pandas/core/frame.py:4912\u001b[0m, in \u001b[0;36mDataFrame._sanitize_column\u001b[0;34m(self, value)\u001b[0m\n\u001b[1;32m   4909\u001b[0m     \u001b[39mreturn\u001b[39;00m _reindex_for_setitem(Series(value), \u001b[39mself\u001b[39m\u001b[39m.\u001b[39mindex)\n\u001b[1;32m   4911\u001b[0m \u001b[39mif\u001b[39;00m is_list_like(value):\n\u001b[0;32m-> 4912\u001b[0m     com\u001b[39m.\u001b[39;49mrequire_length_match(value, \u001b[39mself\u001b[39;49m\u001b[39m.\u001b[39;49mindex)\n\u001b[1;32m   4913\u001b[0m \u001b[39mreturn\u001b[39;00m sanitize_array(value, \u001b[39mself\u001b[39m\u001b[39m.\u001b[39mindex, copy\u001b[39m=\u001b[39m\u001b[39mTrue\u001b[39;00m, allow_2d\u001b[39m=\u001b[39m\u001b[39mTrue\u001b[39;00m)\n",
      "File \u001b[0;32m~/miniforge3/lib/python3.10/site-packages/pandas/core/common.py:561\u001b[0m, in \u001b[0;36mrequire_length_match\u001b[0;34m(data, index)\u001b[0m\n\u001b[1;32m    557\u001b[0m \u001b[39m\"\"\"\u001b[39;00m\n\u001b[1;32m    558\u001b[0m \u001b[39mCheck the length of data matches the length of the index.\u001b[39;00m\n\u001b[1;32m    559\u001b[0m \u001b[39m\"\"\"\u001b[39;00m\n\u001b[1;32m    560\u001b[0m \u001b[39mif\u001b[39;00m \u001b[39mlen\u001b[39m(data) \u001b[39m!=\u001b[39m \u001b[39mlen\u001b[39m(index):\n\u001b[0;32m--> 561\u001b[0m     \u001b[39mraise\u001b[39;00m \u001b[39mValueError\u001b[39;00m(\n\u001b[1;32m    562\u001b[0m         \u001b[39m\"\u001b[39m\u001b[39mLength of values \u001b[39m\u001b[39m\"\u001b[39m\n\u001b[1;32m    563\u001b[0m         \u001b[39mf\u001b[39m\u001b[39m\"\u001b[39m\u001b[39m(\u001b[39m\u001b[39m{\u001b[39;00m\u001b[39mlen\u001b[39m(data)\u001b[39m}\u001b[39;00m\u001b[39m) \u001b[39m\u001b[39m\"\u001b[39m\n\u001b[1;32m    564\u001b[0m         \u001b[39m\"\u001b[39m\u001b[39mdoes not match length of index \u001b[39m\u001b[39m\"\u001b[39m\n\u001b[1;32m    565\u001b[0m         \u001b[39mf\u001b[39m\u001b[39m\"\u001b[39m\u001b[39m(\u001b[39m\u001b[39m{\u001b[39;00m\u001b[39mlen\u001b[39m(index)\u001b[39m}\u001b[39;00m\u001b[39m)\u001b[39m\u001b[39m\"\u001b[39m\n\u001b[1;32m    566\u001b[0m     )\n",
      "\u001b[0;31mValueError\u001b[0m: Length of values (160) does not match length of index (78610)"
     ]
    }
   ],
   "source": [
    "from tqdm import tqdm\n",
    "tqdm.pandas()\n",
    "db['lon'], db['lat'] = zip(*db['addresse'].progress_apply(samedict))"
   ]
  },
  {
   "cell_type": "code",
   "execution_count": 145,
   "metadata": {},
   "outputs": [
    {
     "name": "stdout",
     "output_type": "stream",
     "text": [
      "서울 성북구 보문로 132\n",
      "보문로, 보문동4가, 보문동, 성북구, 서울, 02858, 대한민국\n",
      "서울 서대문구 연세로5길 38\n",
      "연세로5길, 창천동, 신촌동, 서대문구, 서울, 03789, 대한민국\n"
     ]
    }
   ],
   "source": [
    "tmp_list = set(tmp_df['addresse'].to_list())\n",
    "address_list = {i:geocode(i) for i in tmp_list}"
   ]
  },
  {
   "cell_type": "code",
   "execution_count": 76,
   "metadata": {},
   "outputs": [
    {
     "data": {
      "text/plain": [
       "NoneType"
      ]
     },
     "execution_count": 76,
     "metadata": {},
     "output_type": "execute_result"
    }
   ],
   "source": [
    "type(address_list['서울 서대문구 연세로5길 38 1층 (우)03789'])"
   ]
  },
  {
   "cell_type": "code",
   "execution_count": 81,
   "metadata": {},
   "outputs": [],
   "source": [
    "def samedict(address):\n",
    "    if address_list[address]:\n",
    "        return address_list[address][0],address_list[address][1]\n",
    "    else:\n",
    "        return 'None', 'None'"
   ]
  },
  {
   "cell_type": "code",
   "execution_count": 78,
   "metadata": {},
   "outputs": [
    {
     "data": {
      "text/plain": [
       "('None', 'None')"
      ]
     },
     "execution_count": 78,
     "metadata": {},
     "output_type": "execute_result"
    }
   ],
   "source": [
    "samedict(\"서울 서대문구 연세로5길 38 1층 (우)03789\")"
   ]
  },
  {
   "cell_type": "code",
   "execution_count": 147,
   "metadata": {},
   "outputs": [
    {
     "name": "stderr",
     "output_type": "stream",
     "text": [
      "100%|██████████| 160/160 [00:00<00:00, 415534.76it/s]\n",
      "/var/folders/dq/xrxyf7x57q504wf515d672p00000gn/T/ipykernel_17153/4100839092.py:3: SettingWithCopyWarning: \n",
      "A value is trying to be set on a copy of a slice from a DataFrame.\n",
      "Try using .loc[row_indexer,col_indexer] = value instead\n",
      "\n",
      "See the caveats in the documentation: https://pandas.pydata.org/pandas-docs/stable/user_guide/indexing.html#returning-a-view-versus-a-copy\n",
      "  tmp_df['lon'], tmp_df['lat'] = zip(*tmp_df['addresse'].progress_apply(samedict))\n"
     ]
    }
   ],
   "source": [
    "from tqdm import tqdm\n",
    "tqdm.pandas()\n",
    "tmp_df['lon'], tmp_df['lat'] = zip(*tmp_df['addresse'].progress_apply(samedict))\n"
   ]
  },
  {
   "cell_type": "code",
   "execution_count": 148,
   "metadata": {},
   "outputs": [
    {
     "data": {
      "text/html": [
       "<div>\n",
       "<style scoped>\n",
       "    .dataframe tbody tr th:only-of-type {\n",
       "        vertical-align: middle;\n",
       "    }\n",
       "\n",
       "    .dataframe tbody tr th {\n",
       "        vertical-align: top;\n",
       "    }\n",
       "\n",
       "    .dataframe thead th {\n",
       "        text-align: right;\n",
       "    }\n",
       "</style>\n",
       "<table border=\"1\" class=\"dataframe\">\n",
       "  <thead>\n",
       "    <tr style=\"text-align: right;\">\n",
       "      <th></th>\n",
       "      <th>region</th>\n",
       "      <th>name</th>\n",
       "      <th>addresse</th>\n",
       "      <th>cat1</th>\n",
       "      <th>cat2</th>\n",
       "      <th>review_num</th>\n",
       "      <th>blog_review_num</th>\n",
       "      <th>score_min</th>\n",
       "      <th>likePoint</th>\n",
       "      <th>likePointCnt</th>\n",
       "      <th>rate</th>\n",
       "      <th>reviewerCnt</th>\n",
       "      <th>reviewAt</th>\n",
       "      <th>reviews_date</th>\n",
       "      <th>lon</th>\n",
       "      <th>lat</th>\n",
       "    </tr>\n",
       "  </thead>\n",
       "  <tbody>\n",
       "  </tbody>\n",
       "</table>\n",
       "</div>"
      ],
      "text/plain": [
       "Empty DataFrame\n",
       "Columns: [region, name, addresse, cat1, cat2, review_num, blog_review_num, score_min, likePoint, likePointCnt, rate, reviewerCnt, reviewAt, reviews_date, lon, lat]\n",
       "Index: []"
      ]
     },
     "execution_count": 148,
     "metadata": {},
     "output_type": "execute_result"
    }
   ],
   "source": [
    "tmp_df[(tmp_df['lon'] == 'None') | (tmp_df['lat'] == 'None') ]"
   ]
  },
  {
   "cell_type": "code",
   "execution_count": 143,
   "metadata": {},
   "outputs": [
    {
     "name": "stdout",
     "output_type": "stream",
     "text": [
      "서울 성북구 보문로 132\n",
      "(37.5818506, 127.0212579)\n"
     ]
    }
   ],
   "source": [
    "\n",
    "\n",
    "coordinates = get_coordinates(\"서울 성북구 보문로 132\")\n",
    "print(coordinates)\n"
   ]
  },
  {
   "cell_type": "code",
   "execution_count": 149,
   "metadata": {},
   "outputs": [],
   "source": [
    "db = pd.concat([db,tmp_df])"
   ]
  },
  {
   "cell_type": "code",
   "execution_count": 103,
   "metadata": {},
   "outputs": [
    {
     "data": {
      "text/plain": [
       "Index(['region', 'name', 'addresse', 'cat1', 'cat2', 'review_num',\n",
       "       'blog_review_num', 'score_min', 'likePoint', 'likePointCnt', 'rate',\n",
       "       'reviewerCnt', 'reviewAt', 'reviews_date', 'lon', 'lat'],\n",
       "      dtype='object')"
      ]
     },
     "execution_count": 103,
     "metadata": {},
     "output_type": "execute_result"
    }
   ],
   "source": [
    "db.keys()"
   ]
  },
  {
   "cell_type": "code",
   "execution_count": 150,
   "metadata": {},
   "outputs": [
    {
     "data": {
      "text/html": [
       "<div>\n",
       "<style scoped>\n",
       "    .dataframe tbody tr th:only-of-type {\n",
       "        vertical-align: middle;\n",
       "    }\n",
       "\n",
       "    .dataframe tbody tr th {\n",
       "        vertical-align: top;\n",
       "    }\n",
       "\n",
       "    .dataframe thead th {\n",
       "        text-align: right;\n",
       "    }\n",
       "</style>\n",
       "<table border=\"1\" class=\"dataframe\">\n",
       "  <thead>\n",
       "    <tr style=\"text-align: right;\">\n",
       "      <th></th>\n",
       "      <th>region</th>\n",
       "      <th>name</th>\n",
       "      <th>addresse</th>\n",
       "      <th>cat1</th>\n",
       "      <th>cat2</th>\n",
       "      <th>review_num</th>\n",
       "      <th>blog_review_num</th>\n",
       "      <th>score_min</th>\n",
       "      <th>likePoint</th>\n",
       "      <th>likePointCnt</th>\n",
       "      <th>rate</th>\n",
       "      <th>reviewerCnt</th>\n",
       "      <th>reviewAt</th>\n",
       "      <th>reviews_date</th>\n",
       "      <th>lon</th>\n",
       "      <th>lat</th>\n",
       "    </tr>\n",
       "  </thead>\n",
       "  <tbody>\n",
       "    <tr>\n",
       "      <th>0</th>\n",
       "      <td>삼성역</td>\n",
       "      <td>팀호완 삼성점</td>\n",
       "      <td>서울 강남구 봉은사로86길 30 1층 (우)06165</td>\n",
       "      <td>중식</td>\n",
       "      <td>샤오마이 3pcs -&gt;가격:6500 차슈 라이스 롤 3pcs -&gt;가격:8000 사천...</td>\n",
       "      <td>17.0</td>\n",
       "      <td>824</td>\n",
       "      <td>3.5</td>\n",
       "      <td>맛@가성비@친절@분위기@</td>\n",
       "      <td>3@1@1@1@</td>\n",
       "      <td>3.8</td>\n",
       "      <td>432</td>\n",
       "      <td>5.0</td>\n",
       "      <td>2022.09.02.</td>\n",
       "      <td>127.056865961</td>\n",
       "      <td>37.511448223</td>\n",
       "    </tr>\n",
       "    <tr>\n",
       "      <th>1</th>\n",
       "      <td>삼성역</td>\n",
       "      <td>팀호완 삼성점</td>\n",
       "      <td>서울 강남구 봉은사로86길 30 1층 (우)06165</td>\n",
       "      <td>중식</td>\n",
       "      <td>샤오마이 3pcs -&gt;가격:6500 차슈 라이스 롤 3pcs -&gt;가격:8000 사천...</td>\n",
       "      <td>17.0</td>\n",
       "      <td>824</td>\n",
       "      <td>3.5</td>\n",
       "      <td>맛@가성비@친절@분위기@</td>\n",
       "      <td>3@1@1@1@</td>\n",
       "      <td>3.3</td>\n",
       "      <td>66</td>\n",
       "      <td>4.0</td>\n",
       "      <td>2022.09.01.</td>\n",
       "      <td>127.056865961</td>\n",
       "      <td>37.511448223</td>\n",
       "    </tr>\n",
       "    <tr>\n",
       "      <th>2</th>\n",
       "      <td>삼성역</td>\n",
       "      <td>팀호완 삼성점</td>\n",
       "      <td>서울 강남구 봉은사로86길 30 1층 (우)06165</td>\n",
       "      <td>중식</td>\n",
       "      <td>샤오마이 3pcs -&gt;가격:6500 차슈 라이스 롤 3pcs -&gt;가격:8000 사천...</td>\n",
       "      <td>17.0</td>\n",
       "      <td>824</td>\n",
       "      <td>3.5</td>\n",
       "      <td>맛@가성비@친절@분위기@</td>\n",
       "      <td>3@1@1@1@</td>\n",
       "      <td>3.4</td>\n",
       "      <td>35</td>\n",
       "      <td>5.0</td>\n",
       "      <td>2022.08.18.</td>\n",
       "      <td>127.056865961</td>\n",
       "      <td>37.511448223</td>\n",
       "    </tr>\n",
       "    <tr>\n",
       "      <th>3</th>\n",
       "      <td>삼성역</td>\n",
       "      <td>팀호완 삼성점</td>\n",
       "      <td>서울 강남구 봉은사로86길 30 1층 (우)06165</td>\n",
       "      <td>중식</td>\n",
       "      <td>샤오마이 3pcs -&gt;가격:6500 차슈 라이스 롤 3pcs -&gt;가격:8000 사천...</td>\n",
       "      <td>17.0</td>\n",
       "      <td>824</td>\n",
       "      <td>3.5</td>\n",
       "      <td>맛@가성비@친절@분위기@</td>\n",
       "      <td>3@1@1@1@</td>\n",
       "      <td>2.6</td>\n",
       "      <td>73</td>\n",
       "      <td>4.0</td>\n",
       "      <td>2022.08.10.</td>\n",
       "      <td>127.056865961</td>\n",
       "      <td>37.511448223</td>\n",
       "    </tr>\n",
       "    <tr>\n",
       "      <th>4</th>\n",
       "      <td>삼성역</td>\n",
       "      <td>팀호완 삼성점</td>\n",
       "      <td>서울 강남구 봉은사로86길 30 1층 (우)06165</td>\n",
       "      <td>중식</td>\n",
       "      <td>샤오마이 3pcs -&gt;가격:6500 차슈 라이스 롤 3pcs -&gt;가격:8000 사천...</td>\n",
       "      <td>17.0</td>\n",
       "      <td>824</td>\n",
       "      <td>3.5</td>\n",
       "      <td>맛@가성비@친절@분위기@</td>\n",
       "      <td>3@1@1@1@</td>\n",
       "      <td>3.5</td>\n",
       "      <td>84</td>\n",
       "      <td>4.0</td>\n",
       "      <td>2022.06.29.</td>\n",
       "      <td>127.056865961</td>\n",
       "      <td>37.511448223</td>\n",
       "    </tr>\n",
       "    <tr>\n",
       "      <th>...</th>\n",
       "      <td>...</td>\n",
       "      <td>...</td>\n",
       "      <td>...</td>\n",
       "      <td>...</td>\n",
       "      <td>...</td>\n",
       "      <td>...</td>\n",
       "      <td>...</td>\n",
       "      <td>...</td>\n",
       "      <td>...</td>\n",
       "      <td>...</td>\n",
       "      <td>...</td>\n",
       "      <td>...</td>\n",
       "      <td>...</td>\n",
       "      <td>...</td>\n",
       "      <td>...</td>\n",
       "      <td>...</td>\n",
       "    </tr>\n",
       "    <tr>\n",
       "      <th>78266</th>\n",
       "      <td>봉화산역</td>\n",
       "      <td>태리로제떡볶이 신내점</td>\n",
       "      <td>서울 중랑구 신내로 225 디아뜨갤러리 138호 (우)02024</td>\n",
       "      <td>한식</td>\n",
       "      <td>['로제 떡볶이\\n10,000', '투움바 떡볶이\\n10,500']</td>\n",
       "      <td>NaN</td>\n",
       "      <td>2</td>\n",
       "      <td>5.0</td>\n",
       "      <td>NaN</td>\n",
       "      <td>NaN</td>\n",
       "      <td>3.8</td>\n",
       "      <td>68</td>\n",
       "      <td>5.0</td>\n",
       "      <td>2022.06.11.</td>\n",
       "      <td>127.091213102</td>\n",
       "      <td>37.617065144</td>\n",
       "    </tr>\n",
       "    <tr>\n",
       "      <th>78267</th>\n",
       "      <td>봉화산역</td>\n",
       "      <td>부쳐샵 봉화산역점</td>\n",
       "      <td>서울 중랑구 신내로 225 디아뜨갤러리 1층 132호 (우)02024</td>\n",
       "      <td>패스트푸드</td>\n",
       "      <td>['[대표]부쳐스버거\\n5,400\\n브리오슈번,로메인,토마토,구운양파,치즈,110g...</td>\n",
       "      <td>NaN</td>\n",
       "      <td>35</td>\n",
       "      <td>4.5</td>\n",
       "      <td>가성비@맛@</td>\n",
       "      <td>2@1@</td>\n",
       "      <td>3.5</td>\n",
       "      <td>185</td>\n",
       "      <td>4.0</td>\n",
       "      <td>2022.09.05.</td>\n",
       "      <td>127.091213102</td>\n",
       "      <td>37.617065144</td>\n",
       "    </tr>\n",
       "    <tr>\n",
       "      <th>78341</th>\n",
       "      <td>봉화산역</td>\n",
       "      <td>큰맘할매순대국 봉화산역점</td>\n",
       "      <td>서울 중랑구 신내로 225 디아뜨갤러리 1층 128호 (우)02024</td>\n",
       "      <td>큰맘할매순대국</td>\n",
       "      <td>['큰맘순대국', '김치순대국', '뚝배기 돼지불고기', '매콤 뚝배기 돼지불고기'...</td>\n",
       "      <td>NaN</td>\n",
       "      <td>5</td>\n",
       "      <td>4.2</td>\n",
       "      <td>NaN</td>\n",
       "      <td>NaN</td>\n",
       "      <td>3.3</td>\n",
       "      <td>95</td>\n",
       "      <td>5.0</td>\n",
       "      <td>2022.08.10.</td>\n",
       "      <td>127.091213102</td>\n",
       "      <td>37.617065144</td>\n",
       "    </tr>\n",
       "    <tr>\n",
       "      <th>78375</th>\n",
       "      <td>봉화산역</td>\n",
       "      <td>현궁</td>\n",
       "      <td>서울 중랑구 신내로 225 디아뜨갤러리 1층 145호 (우)02024</td>\n",
       "      <td>중식</td>\n",
       "      <td>[]</td>\n",
       "      <td>NaN</td>\n",
       "      <td>1</td>\n",
       "      <td>3.0</td>\n",
       "      <td>NaN</td>\n",
       "      <td>NaN</td>\n",
       "      <td>3.2</td>\n",
       "      <td>589</td>\n",
       "      <td>4.0</td>\n",
       "      <td>2022.05.02.</td>\n",
       "      <td>127.091213102</td>\n",
       "      <td>37.617065144</td>\n",
       "    </tr>\n",
       "    <tr>\n",
       "      <th>78445</th>\n",
       "      <td>봉화산역</td>\n",
       "      <td>치킨과사람들</td>\n",
       "      <td>서울 중랑구 신내로 225 디아뜨갤러리 110호 (우)02024</td>\n",
       "      <td>패스트푸드</td>\n",
       "      <td>['핫베이크 치킨\\n17,000\\n튀기지 않아도 컽은 바삭바삭 속은 촉촉한 후라이드...</td>\n",
       "      <td>NaN</td>\n",
       "      <td>2</td>\n",
       "      <td>5.0</td>\n",
       "      <td>NaN</td>\n",
       "      <td>NaN</td>\n",
       "      <td>3.0</td>\n",
       "      <td>2</td>\n",
       "      <td>5.0</td>\n",
       "      <td>2020.08.21.</td>\n",
       "      <td>127.091213102</td>\n",
       "      <td>37.617065144</td>\n",
       "    </tr>\n",
       "  </tbody>\n",
       "</table>\n",
       "<p>78610 rows × 16 columns</p>\n",
       "</div>"
      ],
      "text/plain": [
       "      region           name                                addresse     cat1  \\\n",
       "0        삼성역        팀호완 삼성점           서울 강남구 봉은사로86길 30 1층 (우)06165       중식   \n",
       "1        삼성역        팀호완 삼성점           서울 강남구 봉은사로86길 30 1층 (우)06165       중식   \n",
       "2        삼성역        팀호완 삼성점           서울 강남구 봉은사로86길 30 1층 (우)06165       중식   \n",
       "3        삼성역        팀호완 삼성점           서울 강남구 봉은사로86길 30 1층 (우)06165       중식   \n",
       "4        삼성역        팀호완 삼성점           서울 강남구 봉은사로86길 30 1층 (우)06165       중식   \n",
       "...      ...            ...                                     ...      ...   \n",
       "78266   봉화산역    태리로제떡볶이 신내점     서울 중랑구 신내로 225 디아뜨갤러리 138호 (우)02024       한식   \n",
       "78267   봉화산역      부쳐샵 봉화산역점  서울 중랑구 신내로 225 디아뜨갤러리 1층 132호 (우)02024    패스트푸드   \n",
       "78341   봉화산역  큰맘할매순대국 봉화산역점  서울 중랑구 신내로 225 디아뜨갤러리 1층 128호 (우)02024  큰맘할매순대국   \n",
       "78375   봉화산역             현궁  서울 중랑구 신내로 225 디아뜨갤러리 1층 145호 (우)02024       중식   \n",
       "78445   봉화산역         치킨과사람들     서울 중랑구 신내로 225 디아뜨갤러리 110호 (우)02024    패스트푸드   \n",
       "\n",
       "                                                    cat2  review_num  \\\n",
       "0      샤오마이 3pcs ->가격:6500 차슈 라이스 롤 3pcs ->가격:8000 사천...        17.0   \n",
       "1      샤오마이 3pcs ->가격:6500 차슈 라이스 롤 3pcs ->가격:8000 사천...        17.0   \n",
       "2      샤오마이 3pcs ->가격:6500 차슈 라이스 롤 3pcs ->가격:8000 사천...        17.0   \n",
       "3      샤오마이 3pcs ->가격:6500 차슈 라이스 롤 3pcs ->가격:8000 사천...        17.0   \n",
       "4      샤오마이 3pcs ->가격:6500 차슈 라이스 롤 3pcs ->가격:8000 사천...        17.0   \n",
       "...                                                  ...         ...   \n",
       "78266              ['로제 떡볶이\\n10,000', '투움바 떡볶이\\n10,500']         NaN   \n",
       "78267  ['[대표]부쳐스버거\\n5,400\\n브리오슈번,로메인,토마토,구운양파,치즈,110g...         NaN   \n",
       "78341  ['큰맘순대국', '김치순대국', '뚝배기 돼지불고기', '매콤 뚝배기 돼지불고기'...         NaN   \n",
       "78375                                                 []         NaN   \n",
       "78445  ['핫베이크 치킨\\n17,000\\n튀기지 않아도 컽은 바삭바삭 속은 촉촉한 후라이드...         NaN   \n",
       "\n",
       "       blog_review_num  score_min      likePoint likePointCnt  rate  \\\n",
       "0                  824        3.5  맛@가성비@친절@분위기@     3@1@1@1@   3.8   \n",
       "1                  824        3.5  맛@가성비@친절@분위기@     3@1@1@1@   3.3   \n",
       "2                  824        3.5  맛@가성비@친절@분위기@     3@1@1@1@   3.4   \n",
       "3                  824        3.5  맛@가성비@친절@분위기@     3@1@1@1@   2.6   \n",
       "4                  824        3.5  맛@가성비@친절@분위기@     3@1@1@1@   3.5   \n",
       "...                ...        ...            ...          ...   ...   \n",
       "78266                2        5.0            NaN          NaN   3.8   \n",
       "78267               35        4.5         가성비@맛@         2@1@   3.5   \n",
       "78341                5        4.2            NaN          NaN   3.3   \n",
       "78375                1        3.0            NaN          NaN   3.2   \n",
       "78445                2        5.0            NaN          NaN   3.0   \n",
       "\n",
       "      reviewerCnt  reviewAt reviews_date            lon           lat  \n",
       "0             432       5.0  2022.09.02.  127.056865961  37.511448223  \n",
       "1              66       4.0  2022.09.01.  127.056865961  37.511448223  \n",
       "2              35       5.0  2022.08.18.  127.056865961  37.511448223  \n",
       "3              73       4.0  2022.08.10.  127.056865961  37.511448223  \n",
       "4              84       4.0  2022.06.29.  127.056865961  37.511448223  \n",
       "...           ...       ...          ...            ...           ...  \n",
       "78266          68       5.0  2022.06.11.  127.091213102  37.617065144  \n",
       "78267         185       4.0  2022.09.05.  127.091213102  37.617065144  \n",
       "78341          95       5.0  2022.08.10.  127.091213102  37.617065144  \n",
       "78375         589       4.0  2022.05.02.  127.091213102  37.617065144  \n",
       "78445           2       5.0  2020.08.21.  127.091213102  37.617065144  \n",
       "\n",
       "[78610 rows x 16 columns]"
      ]
     },
     "execution_count": 150,
     "metadata": {},
     "output_type": "execute_result"
    }
   ],
   "source": [
    "db"
   ]
  },
  {
   "cell_type": "code",
   "execution_count": 151,
   "metadata": {},
   "outputs": [],
   "source": [
    "db.to_csv('./matki_DB.csv', encoding='utf-8-sig', index=False)"
   ]
  },
  {
   "cell_type": "code",
   "execution_count": 123,
   "metadata": {},
   "outputs": [
    {
     "data": {
      "text/plain": [
       "160"
      ]
     },
     "execution_count": 123,
     "metadata": {},
     "output_type": "execute_result"
    }
   ],
   "source": [
    "78610-78450"
   ]
  },
  {
   "cell_type": "code",
   "execution_count": 124,
   "metadata": {},
   "outputs": [],
   "source": [
    "db.drop(db[(db['lon'] == 'None') | (db['lat'] == 'None')].index, inplace=True)"
   ]
  },
  {
   "cell_type": "code",
   "execution_count": 130,
   "metadata": {},
   "outputs": [
    {
     "data": {
      "text/html": [
       "<div>\n",
       "<style scoped>\n",
       "    .dataframe tbody tr th:only-of-type {\n",
       "        vertical-align: middle;\n",
       "    }\n",
       "\n",
       "    .dataframe tbody tr th {\n",
       "        vertical-align: top;\n",
       "    }\n",
       "\n",
       "    .dataframe thead th {\n",
       "        text-align: right;\n",
       "    }\n",
       "</style>\n",
       "<table border=\"1\" class=\"dataframe\">\n",
       "  <thead>\n",
       "    <tr style=\"text-align: right;\">\n",
       "      <th></th>\n",
       "      <th>region</th>\n",
       "      <th>name</th>\n",
       "      <th>addresse</th>\n",
       "      <th>cat1</th>\n",
       "      <th>cat2</th>\n",
       "      <th>review_num</th>\n",
       "      <th>blog_review_num</th>\n",
       "      <th>score_min</th>\n",
       "      <th>likePoint</th>\n",
       "      <th>likePointCnt</th>\n",
       "      <th>rate</th>\n",
       "      <th>reviewerCnt</th>\n",
       "      <th>reviewAt</th>\n",
       "      <th>reviews_date</th>\n",
       "      <th>lon</th>\n",
       "      <th>lat</th>\n",
       "    </tr>\n",
       "  </thead>\n",
       "  <tbody>\n",
       "    <tr>\n",
       "      <th>21887</th>\n",
       "      <td>신촌역</td>\n",
       "      <td>돈우마미</td>\n",
       "      <td>서울 서대문구 연세로5길 38 1층 (우)03789</td>\n",
       "      <td>일식</td>\n",
       "      <td>['가츠동\\n7,500', '가라게동\\n8,000', '믹스동\\n8,500', '김...</td>\n",
       "      <td>1.0</td>\n",
       "      <td>84</td>\n",
       "      <td>3.4</td>\n",
       "      <td>NaN</td>\n",
       "      <td>NaN</td>\n",
       "      <td>2.9</td>\n",
       "      <td>96</td>\n",
       "      <td>4.0</td>\n",
       "      <td>2022.09.15.</td>\n",
       "      <td>None</td>\n",
       "      <td>None</td>\n",
       "    </tr>\n",
       "    <tr>\n",
       "      <th>72468</th>\n",
       "      <td>창신역</td>\n",
       "      <td>이가네바지락칼국수</td>\n",
       "      <td>서울 성북구 보문로 132 (우)02851</td>\n",
       "      <td>면류</td>\n",
       "      <td>['콩국수\\n6,500\\n계절메뉴', '아구찜(중)\\n37,000\\n2시이후 요리가...</td>\n",
       "      <td>NaN</td>\n",
       "      <td>6</td>\n",
       "      <td>4.3</td>\n",
       "      <td>NaN</td>\n",
       "      <td>NaN</td>\n",
       "      <td>3.7</td>\n",
       "      <td>13</td>\n",
       "      <td>5.0</td>\n",
       "      <td>2021.09.28.</td>\n",
       "      <td>None</td>\n",
       "      <td>None</td>\n",
       "    </tr>\n",
       "    <tr>\n",
       "      <th>72469</th>\n",
       "      <td>창신역</td>\n",
       "      <td>이가네바지락칼국수</td>\n",
       "      <td>서울 성북구 보문로 132 (우)02851</td>\n",
       "      <td>면류</td>\n",
       "      <td>['콩국수\\n6,500\\n계절메뉴', '아구찜(중)\\n37,000\\n2시이후 요리가...</td>\n",
       "      <td>NaN</td>\n",
       "      <td>6</td>\n",
       "      <td>4.3</td>\n",
       "      <td>NaN</td>\n",
       "      <td>NaN</td>\n",
       "      <td>3.1</td>\n",
       "      <td>16</td>\n",
       "      <td>4.0</td>\n",
       "      <td>2021.08.10.</td>\n",
       "      <td>None</td>\n",
       "      <td>None</td>\n",
       "    </tr>\n",
       "    <tr>\n",
       "      <th>73230</th>\n",
       "      <td>보문역</td>\n",
       "      <td>이가네바지락칼국수</td>\n",
       "      <td>서울 성북구 보문로 132 (우)02851</td>\n",
       "      <td>면류</td>\n",
       "      <td>['콩국수\\n6,500\\n계절메뉴', '아구찜(중)\\n37,000\\n2시이후 요리가...</td>\n",
       "      <td>NaN</td>\n",
       "      <td>6</td>\n",
       "      <td>4.3</td>\n",
       "      <td>NaN</td>\n",
       "      <td>NaN</td>\n",
       "      <td>3.7</td>\n",
       "      <td>13</td>\n",
       "      <td>5.0</td>\n",
       "      <td>2021.09.28.</td>\n",
       "      <td>None</td>\n",
       "      <td>None</td>\n",
       "    </tr>\n",
       "    <tr>\n",
       "      <th>73231</th>\n",
       "      <td>보문역</td>\n",
       "      <td>이가네바지락칼국수</td>\n",
       "      <td>서울 성북구 보문로 132 (우)02851</td>\n",
       "      <td>면류</td>\n",
       "      <td>['콩국수\\n6,500\\n계절메뉴', '아구찜(중)\\n37,000\\n2시이후 요리가...</td>\n",
       "      <td>NaN</td>\n",
       "      <td>6</td>\n",
       "      <td>4.3</td>\n",
       "      <td>NaN</td>\n",
       "      <td>NaN</td>\n",
       "      <td>3.1</td>\n",
       "      <td>16</td>\n",
       "      <td>4.0</td>\n",
       "      <td>2021.08.10.</td>\n",
       "      <td>None</td>\n",
       "      <td>None</td>\n",
       "    </tr>\n",
       "  </tbody>\n",
       "</table>\n",
       "</div>"
      ],
      "text/plain": [
       "      region       name                      addresse cat1  \\\n",
       "21887    신촌역       돈우마미  서울 서대문구 연세로5길 38 1층 (우)03789   일식   \n",
       "72468    창신역  이가네바지락칼국수       서울 성북구 보문로 132 (우)02851   면류   \n",
       "72469    창신역  이가네바지락칼국수       서울 성북구 보문로 132 (우)02851   면류   \n",
       "73230    보문역  이가네바지락칼국수       서울 성북구 보문로 132 (우)02851   면류   \n",
       "73231    보문역  이가네바지락칼국수       서울 성북구 보문로 132 (우)02851   면류   \n",
       "\n",
       "                                                    cat2  review_num  \\\n",
       "21887  ['가츠동\\n7,500', '가라게동\\n8,000', '믹스동\\n8,500', '김...         1.0   \n",
       "72468  ['콩국수\\n6,500\\n계절메뉴', '아구찜(중)\\n37,000\\n2시이후 요리가...         NaN   \n",
       "72469  ['콩국수\\n6,500\\n계절메뉴', '아구찜(중)\\n37,000\\n2시이후 요리가...         NaN   \n",
       "73230  ['콩국수\\n6,500\\n계절메뉴', '아구찜(중)\\n37,000\\n2시이후 요리가...         NaN   \n",
       "73231  ['콩국수\\n6,500\\n계절메뉴', '아구찜(중)\\n37,000\\n2시이후 요리가...         NaN   \n",
       "\n",
       "       blog_review_num  score_min likePoint likePointCnt  rate reviewerCnt  \\\n",
       "21887               84        3.4       NaN          NaN   2.9          96   \n",
       "72468                6        4.3       NaN          NaN   3.7          13   \n",
       "72469                6        4.3       NaN          NaN   3.1          16   \n",
       "73230                6        4.3       NaN          NaN   3.7          13   \n",
       "73231                6        4.3       NaN          NaN   3.1          16   \n",
       "\n",
       "       reviewAt reviews_date   lon   lat  \n",
       "21887       4.0  2022.09.15.  None  None  \n",
       "72468       5.0  2021.09.28.  None  None  \n",
       "72469       4.0  2021.08.10.  None  None  \n",
       "73230       5.0  2021.09.28.  None  None  \n",
       "73231       4.0  2021.08.10.  None  None  "
      ]
     },
     "execution_count": 130,
     "metadata": {},
     "output_type": "execute_result"
    }
   ],
   "source": [
    "tmp_df[(tmp_df['lon'] == 'None') | (tmp_df['lat'] == 'None') ]"
   ]
  },
  {
   "cell_type": "code",
   "execution_count": 154,
   "metadata": {},
   "outputs": [],
   "source": [
    "personalAverageScoreRow = 3.2\n",
    "thisRestaurantScore = 2.0\n",
    "# print(result)\n",
    "row_df = db[\n",
    "    (db[\"rate\"] >= personalAverageScoreRow)\n",
    "    & (db[\"reviewAt\"] <= thisRestaurantScore)\n",
    "]"
   ]
  },
  {
   "cell_type": "code",
   "execution_count": 155,
   "metadata": {},
   "outputs": [
    {
     "data": {
      "text/html": [
       "<div>\n",
       "<style scoped>\n",
       "    .dataframe tbody tr th:only-of-type {\n",
       "        vertical-align: middle;\n",
       "    }\n",
       "\n",
       "    .dataframe tbody tr th {\n",
       "        vertical-align: top;\n",
       "    }\n",
       "\n",
       "    .dataframe thead th {\n",
       "        text-align: right;\n",
       "    }\n",
       "</style>\n",
       "<table border=\"1\" class=\"dataframe\">\n",
       "  <thead>\n",
       "    <tr style=\"text-align: right;\">\n",
       "      <th></th>\n",
       "      <th>region</th>\n",
       "      <th>name</th>\n",
       "      <th>addresse</th>\n",
       "      <th>cat1</th>\n",
       "      <th>cat2</th>\n",
       "      <th>review_num</th>\n",
       "      <th>blog_review_num</th>\n",
       "      <th>score_min</th>\n",
       "      <th>likePoint</th>\n",
       "      <th>likePointCnt</th>\n",
       "      <th>rate</th>\n",
       "      <th>reviewerCnt</th>\n",
       "      <th>reviewAt</th>\n",
       "      <th>reviews_date</th>\n",
       "      <th>lon</th>\n",
       "      <th>lat</th>\n",
       "    </tr>\n",
       "  </thead>\n",
       "  <tbody>\n",
       "  </tbody>\n",
       "</table>\n",
       "</div>"
      ],
      "text/plain": [
       "Empty DataFrame\n",
       "Columns: [region, name, addresse, cat1, cat2, review_num, blog_review_num, score_min, likePoint, likePointCnt, rate, reviewerCnt, reviewAt, reviews_date, lon, lat]\n",
       "Index: []"
      ]
     },
     "execution_count": 155,
     "metadata": {},
     "output_type": "execute_result"
    }
   ],
   "source": [
    "row_df"
   ]
  }
 ],
 "metadata": {
  "kernelspec": {
   "display_name": "base",
   "language": "python",
   "name": "python3"
  },
  "language_info": {
   "codemirror_mode": {
    "name": "ipython",
    "version": 3
   },
   "file_extension": ".py",
   "mimetype": "text/x-python",
   "name": "python",
   "nbconvert_exporter": "python",
   "pygments_lexer": "ipython3",
   "version": "3.10.6 | packaged by conda-forge | (main, Aug 22 2022, 20:38:29) [Clang 13.0.1 ]"
  },
  "orig_nbformat": 4,
  "vscode": {
   "interpreter": {
    "hash": "2568b31422f911d240befaa5e46dd782c4cc23ae238e6e2196b9786beeefb2a9"
   }
  }
 },
 "nbformat": 4,
 "nbformat_minor": 2
}
